{
 "cells": [
  {
   "cell_type": "markdown",
   "id": "3d739e85-7395-4d43-8075-bd510b812d43",
   "metadata": {},
   "source": [
    "# Chapter: Functions\n",
    "## Functions is an important concept which makes it possible to reuse code instead of rewritting/copying it everytime you want to do something."
   ]
  },
  {
   "cell_type": "code",
   "execution_count": 1,
   "id": "5c09dbbe-255f-4fb0-bd07-0e8b92a44253",
   "metadata": {},
   "outputs": [
    {
     "name": "stdout",
     "output_type": "stream",
     "text": [
      "Check if 4 is even:\n",
      "Anwer: Is even.\n",
      "\n",
      "check if 3 is even:\n",
      "Answer: Is not even.\n"
     ]
    }
   ],
   "source": [
    "# Scenario: Want to check if two numbers are even.\n",
    "\n",
    "print('Check if 4 is even:')\n",
    "if 4 % 2 == 0:\n",
    "    print('Anwer: Is even.')\n",
    "else:\n",
    "    print('Answer: Is not even')\n",
    "\n",
    "print()\n",
    "\n",
    "print('check if 3 is even:')\n",
    "if 3 % 2 == 0:\n",
    "    print('Answer: Is even.')\n",
    "else:\n",
    "    print('Answer: Is not even.')"
   ]
  },
  {
   "cell_type": "code",
   "execution_count": 4,
   "id": "16257a5c-6710-423c-85fd-1d377b06f33a",
   "metadata": {},
   "outputs": [],
   "source": [
    "# Creating a function to check if a number is even.\n",
    "\n",
    "def is_even(x):\n",
    "    if x % 2 == 0:\n",
    "        return True\n",
    "    else:\n",
    "        return False"
   ]
  },
  {
   "cell_type": "code",
   "execution_count": 5,
   "id": "4bf2cc4d-5895-46db-a562-f6f966af1597",
   "metadata": {},
   "outputs": [
    {
     "name": "stdout",
     "output_type": "stream",
     "text": [
      "True\n",
      "False\n"
     ]
    }
   ],
   "source": [
    "print(is_even(4))\n",
    "print(is_even(3))"
   ]
  },
  {
   "cell_type": "markdown",
   "id": "adf04109-2de2-47ca-9fa8-64362922cc25",
   "metadata": {},
   "source": [
    "# Funktion Naming and Documantation Strings\n",
    "\n",
    "## By convention, function should be named in lowercase with words seperated by underscores.\n",
    "\n",
    "## If having a Documentation String., \"Docstring\", which you should if you want to write \"good code\", the first line should be a concise summary of the purpose and surrounded by triple double quotes. You can read more about docstring conventions at:\n",
    "\n",
    "- http://peps.python.org/pep-0008/#documentation-strings\n",
    "- https://peps.python.org/pep-0257\n",
    "- https://pandas.pydata.org/doc/development/contributing_docstring.html#;~;text=A%20Python%20docstring%20is%20a.html)%documentation%20autom\n"
   ]
  },
  {
   "cell_type": "code",
   "execution_count": null,
   "id": "6b327eb4-9204-4093-9ad2-888c0acb750a",
   "metadata": {},
   "outputs": [],
   "source": [
    "def is even(x):\n",
    "    \"\"\"Returns True if the number is even, else False.\"\"\"\n",
    "    if x % 2 == 0:\n",
    "        return True\n",
    "    else:\n",
    "        return False"
   ]
  },
  {
   "cell_type": "code",
   "execution_count": 9,
   "id": "2534218f-2430-4e18-a543-03f0e66494fc",
   "metadata": {},
   "outputs": [],
   "source": [
    "# An example on how a docstring might look when done properly.\n",
    "\n",
    "def add(num1, num2):\n",
    "    \"\"\"\n",
    "    Add up two integer numbers.\n",
    "\n",
    "    This function simply wraps the ``+`` operator, and does not do anything interesting,\n",
    "    except for illustrating what the docstring of vety simple function looks like.\n",
    "\n",
    "    Parameters\n",
    "    ----------\n",
    "    num1 : int\n",
    "        First number to add.\n",
    "    num2 : int\n",
    "        Second number to add.\n",
    "\n",
    "    Returns\n",
    "    ----------\n",
    "    int\n",
    "            The sum of ``num1`` and ``num2``\n",
    "    See Also\n",
    "    ----------\n",
    "            subtract : subtract one integer from another.\n",
    "    Examples\n",
    "    ----------\n",
    "    >>> add(2, 2)\n",
    "    4\n",
    "    >>> add(25, 0)\n",
    "    25\n",
    "    >>> add(10, -10)\n",
    "    0\n",
    "    \"\"\"\n",
    "    return num1 + num2"
   ]
  },
  {
   "cell_type": "markdown",
   "id": "cf89ef13-f22b-4c38-b022-feb4eb1519b1",
   "metadata": {},
   "source": [
    "# Accessing the documentation String\n",
    "## It is possible to access the documentation string"
   ]
  },
  {
   "cell_type": "code",
   "execution_count": 10,
   "id": "117e992b-254b-47c4-b1e6-88327eab4af9",
   "metadata": {},
   "outputs": [
    {
     "name": "stdout",
     "output_type": "stream",
     "text": [
      "range(stop) -> range object\n",
      "range(start, stop[, step]) -> range object\n",
      "\n",
      "Return an object that produces a sequence of integers from start (inclusive)\n",
      "to stop (exclusive) by step.  range(i, j) produces i, i+1, i+2, ..., j-1.\n",
      "start defaults to 0, and stop is omitted!  range(4) produces 0, 1, 2, 3.\n",
      "These are exactly the valid indices for a list of 4 elements.\n",
      "When step is given, it specifies the increment (or decrement).\n"
     ]
    }
   ],
   "source": [
    "print(range.__doc__)"
   ]
  },
  {
   "cell_type": "code",
   "execution_count": 11,
   "id": "b3153221-70c3-436d-9920-231667b7ecbc",
   "metadata": {},
   "outputs": [
    {
     "name": "stdout",
     "output_type": "stream",
     "text": [
      "Help on class range in module builtins:\n",
      "\n",
      "class range(object)\n",
      " |  range(stop) -> range object\n",
      " |  range(start, stop[, step]) -> range object\n",
      " |\n",
      " |  Return an object that produces a sequence of integers from start (inclusive)\n",
      " |  to stop (exclusive) by step.  range(i, j) produces i, i+1, i+2, ..., j-1.\n",
      " |  start defaults to 0, and stop is omitted!  range(4) produces 0, 1, 2, 3.\n",
      " |  These are exactly the valid indices for a list of 4 elements.\n",
      " |  When step is given, it specifies the increment (or decrement).\n",
      " |\n",
      " |  Methods defined here:\n",
      " |\n",
      " |  __bool__(self, /)\n",
      " |      True if self else False\n",
      " |\n",
      " |  __contains__(self, key, /)\n",
      " |      Return bool(key in self).\n",
      " |\n",
      " |  __eq__(self, value, /)\n",
      " |      Return self==value.\n",
      " |\n",
      " |  __ge__(self, value, /)\n",
      " |      Return self>=value.\n",
      " |\n",
      " |  __getattribute__(self, name, /)\n",
      " |      Return getattr(self, name).\n",
      " |\n",
      " |  __getitem__(self, key, /)\n",
      " |      Return self[key].\n",
      " |\n",
      " |  __gt__(self, value, /)\n",
      " |      Return self>value.\n",
      " |\n",
      " |  __hash__(self, /)\n",
      " |      Return hash(self).\n",
      " |\n",
      " |  __iter__(self, /)\n",
      " |      Implement iter(self).\n",
      " |\n",
      " |  __le__(self, value, /)\n",
      " |      Return self<=value.\n",
      " |\n",
      " |  __len__(self, /)\n",
      " |      Return len(self).\n",
      " |\n",
      " |  __lt__(self, value, /)\n",
      " |      Return self<value.\n",
      " |\n",
      " |  __ne__(self, value, /)\n",
      " |      Return self!=value.\n",
      " |\n",
      " |  __reduce__(...)\n",
      " |      Helper for pickle.\n",
      " |\n",
      " |  __repr__(self, /)\n",
      " |      Return repr(self).\n",
      " |\n",
      " |  __reversed__(...)\n",
      " |      Return a reverse iterator.\n",
      " |\n",
      " |  count(...)\n",
      " |      rangeobject.count(value) -> integer -- return number of occurrences of value\n",
      " |\n",
      " |  index(...)\n",
      " |      rangeobject.index(value) -> integer -- return index of value.\n",
      " |      Raise ValueError if the value is not present.\n",
      " |\n",
      " |  ----------------------------------------------------------------------\n",
      " |  Static methods defined here:\n",
      " |\n",
      " |  __new__(*args, **kwargs)\n",
      " |      Create and return a new object.  See help(type) for accurate signature.\n",
      " |\n",
      " |  ----------------------------------------------------------------------\n",
      " |  Data descriptors defined here:\n",
      " |\n",
      " |  start\n",
      " |\n",
      " |  step\n",
      " |\n",
      " |  stop\n",
      "\n"
     ]
    }
   ],
   "source": [
    "help(range)"
   ]
  },
  {
   "cell_type": "markdown",
   "id": "f1aafdc6-1521-4490-9b45-e9b86ee8d476",
   "metadata": {},
   "source": [
    "# Function Arguments\n",
    "## In Python, by default, arguments may be passed to a function either by position or by keyword where the positional arguments must come before keyword arguments."
   ]
  },
  {
   "cell_type": "code",
   "execution_count": 12,
   "id": "739ace83-bf07-4b20-bfbf-6270d5eab23a",
   "metadata": {},
   "outputs": [
    {
     "name": "stdout",
     "output_type": "stream",
     "text": [
      "3\n",
      "3\n",
      "3\n"
     ]
    }
   ],
   "source": [
    "def sum_two_numbers(arg1, arg2):\n",
    "    return arg1 + arg2\n",
    "\n",
    "print(sum_two_numbers(1, 2)) # 2 positional arguments.\n",
    "print(sum_two_numbers(arg1 = 1, arg2 = 2)) # 2 keyword arguments.\n",
    "print(sum_two_numbers(1, arg2 = 2)) # 1 positional, 1 keyword."
   ]
  },
  {
   "cell_type": "code",
   "execution_count": 13,
   "id": "49b4fae0-534f-4c3f-b5d2-a4be8dceffcb",
   "metadata": {},
   "outputs": [
    {
     "ename": "SyntaxError",
     "evalue": "positional argument follows keyword argument (982543814.py, line 2)",
     "output_type": "error",
     "traceback": [
      "\u001b[1;36m  Cell \u001b[1;32mIn[13], line 2\u001b[1;36m\u001b[0m\n\u001b[1;33m    print(sum_two_numbers(arg = 10, 2))\u001b[0m\n\u001b[1;37m                                     ^\u001b[0m\n\u001b[1;31mSyntaxError\u001b[0m\u001b[1;31m:\u001b[0m positional argument follows keyword argument\n"
     ]
    }
   ],
   "source": [
    "# Positional arguments must come before keyword arguments. So this yield an erros.\n",
    "print(sum_two_numbers(arg = 10, 2))"
   ]
  },
  {
   "cell_type": "markdown",
   "id": "9d8f28da-078a-4550-8760-4d89aece85f5",
   "metadata": {},
   "source": [
    "# Default Arguments\n",
    "## In Python it is possible to have default arguments and they must come after non-default arguments. Just as before you can pass the arguments by either position or keyword."
   ]
  },
  {
   "cell_type": "code",
   "execution_count": 15,
   "id": "913b9499-d667-41c4-9303-c3392b51726c",
   "metadata": {},
   "outputs": [
    {
     "name": "stdout",
     "output_type": "stream",
     "text": [
      "50\n",
      "20\n"
     ]
    }
   ],
   "source": [
    "def multiplier_function(x, multiplier = 10):\n",
    "    return x * multiplier\n",
    "\n",
    "# Passing one argument means the default value will be used for the second argument.\n",
    "print(multiplier_function(5))\n",
    "\n",
    "# Passing two arguments means that the default valu is not used.\n",
    "print(multiplier_function(4, 5))"
   ]
  },
  {
   "cell_type": "markdown",
   "id": "e1a54427-3fc9-4ed8-9db7-9f9e09b832cd",
   "metadata": {},
   "source": [
    "# Restricting Allowed Parameter Types\n",
    "## It is possible to restrict the way arguments can be passed, i.e. only by position, position or keyword or only keyword.\n",
    "\n",
    "## The general synax is:\n",
    "\n",
    "## def f(pos_only_1, pos_only_2,/, pos_or_kwd,*, kwd_only_1)\n",
    "## - Positional-only arguments are passed before a / (forward slash).\n",
    "## - Keyword-only arguments placed after an * (asterisk)"
   ]
  },
  {
   "cell_type": "code",
   "execution_count": 20,
   "id": "634b651e-14e0-4c80-94fa-50cade4b839e",
   "metadata": {},
   "outputs": [],
   "source": [
    "def kwarg_only(*, argu1, argu2):\n",
    "    return argu1 + argu2"
   ]
  },
  {
   "cell_type": "code",
   "execution_count": 21,
   "id": "699a724f-cedf-4231-92df-53fc3062f664",
   "metadata": {},
   "outputs": [
    {
     "data": {
      "text/plain": [
       "3"
      ]
     },
     "execution_count": 21,
     "metadata": {},
     "output_type": "execute_result"
    }
   ],
   "source": [
    "# Kwarg works fine\n",
    "kwarg_only(argu1 = 1, argu2 = 2)"
   ]
  },
  {
   "cell_type": "code",
   "execution_count": 22,
   "id": "5c4a39de-2287-4d28-9743-617d78893c54",
   "metadata": {},
   "outputs": [
    {
     "ename": "TypeError",
     "evalue": "kwarg_only() takes 0 positional arguments but 2 were given",
     "output_type": "error",
     "traceback": [
      "\u001b[1;31m---------------------------------------------------------------------------\u001b[0m",
      "\u001b[1;31mTypeError\u001b[0m                                 Traceback (most recent call last)",
      "Cell \u001b[1;32mIn[22], line 2\u001b[0m\n\u001b[0;32m      1\u001b[0m \u001b[38;5;66;03m# Positional arguments return an error.\u001b[39;00m\n\u001b[1;32m----> 2\u001b[0m kwarg_only(\u001b[38;5;241m1\u001b[39m, \u001b[38;5;241m2\u001b[39m)\n",
      "\u001b[1;31mTypeError\u001b[0m: kwarg_only() takes 0 positional arguments but 2 were given"
     ]
    }
   ],
   "source": [
    "# Positional arguments return an error.\n",
    "kwarg_only(1, 2)"
   ]
  },
  {
   "cell_type": "code",
   "execution_count": 26,
   "id": "8b40407e-e8b2-467b-8b8a-911789a285da",
   "metadata": {},
   "outputs": [],
   "source": [
    "def pos_only(argu1, argu2, /):\n",
    "    return argu1 + argu2"
   ]
  },
  {
   "cell_type": "code",
   "execution_count": 27,
   "id": "73b4d280-b326-465c-b152-d9130f52d935",
   "metadata": {},
   "outputs": [
    {
     "data": {
      "text/plain": [
       "3"
      ]
     },
     "execution_count": 27,
     "metadata": {},
     "output_type": "execute_result"
    }
   ],
   "source": [
    "# Positional arguments work fine.\n",
    "pos_only(1, 2)"
   ]
  },
  {
   "cell_type": "code",
   "execution_count": 28,
   "id": "ed369787-2888-43ee-bd04-44cee6693498",
   "metadata": {},
   "outputs": [
    {
     "ename": "TypeError",
     "evalue": "pos_only() got some positional-only arguments passed as keyword arguments: 'argu1, argu2'",
     "output_type": "error",
     "traceback": [
      "\u001b[1;31m---------------------------------------------------------------------------\u001b[0m",
      "\u001b[1;31mTypeError\u001b[0m                                 Traceback (most recent call last)",
      "Cell \u001b[1;32mIn[28], line 2\u001b[0m\n\u001b[0;32m      1\u001b[0m \u001b[38;5;66;03m# Kwarg return an error\u001b[39;00m\n\u001b[1;32m----> 2\u001b[0m pos_only(argu1 \u001b[38;5;241m=\u001b[39m \u001b[38;5;241m1\u001b[39m, argu2 \u001b[38;5;241m=\u001b[39m \u001b[38;5;241m1\u001b[39m)\n",
      "\u001b[1;31mTypeError\u001b[0m: pos_only() got some positional-only arguments passed as keyword arguments: 'argu1, argu2'"
     ]
    }
   ],
   "source": [
    "# Kwarg return an error\n",
    "pos_only(argu1 = 1, argu2 = 1)"
   ]
  },
  {
   "cell_type": "markdown",
   "id": "429e0245-5b92-475f-80cb-920c83e6730c",
   "metadata": {},
   "source": [
    "# Unpacking\n",
    "## We can use unpacking if a function requiers multiple arguments. \n",
    "## - *arg unpacks a tuple returning positional arguments.\n",
    "## - **kwargs unpacks a dicionary returning keyword arguments."
   ]
  },
  {
   "cell_type": "code",
   "execution_count": 1,
   "id": "c944d1ef-1665-4796-aae3-daf74f59385b",
   "metadata": {},
   "outputs": [
    {
     "data": {
      "text/plain": [
       "6"
      ]
     },
     "execution_count": 1,
     "metadata": {},
     "output_type": "execute_result"
    }
   ],
   "source": [
    "def sum_three_numbers(a, b, c):\n",
    "    return a + b + c\n",
    "\n",
    "# One way to call the function.\n",
    "sum_three_numbers(1, 2, 3)"
   ]
  },
  {
   "cell_type": "code",
   "execution_count": 2,
   "id": "9bea6f15-070d-485a-b3f1-acb9e6a37563",
   "metadata": {},
   "outputs": [
    {
     "data": {
      "text/plain": [
       "6"
      ]
     },
     "execution_count": 2,
     "metadata": {},
     "output_type": "execute_result"
    }
   ],
   "source": [
    "# We can call the function be unpacking a tuple whick positional arguments.\n",
    "my_tuple = (1, 2, 3)\n",
    "\n",
    "sum_three_numbers(*my_tuple)"
   ]
  },
  {
   "cell_type": "code",
   "execution_count": 3,
   "id": "2109dfdf-3f39-494d-a7b6-72519f2f1a19",
   "metadata": {},
   "outputs": [
    {
     "data": {
      "text/plain": [
       "6"
      ]
     },
     "execution_count": 3,
     "metadata": {},
     "output_type": "execute_result"
    }
   ],
   "source": [
    "# We can call the function by unpacking a dictionary which return keyword arguments.\n",
    "my_dict = {'a': 1, 'b': 2, 'c': 3}\n",
    "\n",
    "sum_three_numbers(**my_dict)"
   ]
  },
  {
   "cell_type": "markdown",
   "id": "394f649c-ec0f-4a55-b5a4-1c1e8b0027a9",
   "metadata": {},
   "source": [
    "# Variable Number of Arguments\n",
    "## It is possible to define functions that accepts a varying number of arguments.\n",
    "\n",
    "## - With *args we can use a variable number of positional arguments. \n",
    "## - With **kwargs we can use a variable number of keywords arguments."
   ]
  },
  {
   "cell_type": "code",
   "execution_count": 7,
   "id": "557a4c5b-d8f9-40c3-ac62-d49c466f7979",
   "metadata": {},
   "outputs": [],
   "source": [
    "def sum_numbers(*args):\n",
    "    s = 0\n",
    "    for argument in args:\n",
    "        s = s + argument\n",
    "    return s"
   ]
  },
  {
   "cell_type": "code",
   "execution_count": 8,
   "id": "d910ce86-f4db-46a1-aaca-04d73fee3ad9",
   "metadata": {},
   "outputs": [
    {
     "name": "stdout",
     "output_type": "stream",
     "text": [
      "6\n",
      "55\n"
     ]
    }
   ],
   "source": [
    "# Calling the function with 3 arguments.\n",
    "print(sum_numbers(1, 2, 3))\n",
    "\n",
    "# Calling the function with 10 arguments.\n",
    "print(sum_numbers(1, 2, 3, 4, 5, 6, 7, 8, 9, 10))"
   ]
  },
  {
   "cell_type": "markdown",
   "id": "ec163c3f-a9b7-4dbd-9ce9-380ac73f7570",
   "metadata": {},
   "source": [
    "#### You can check up ** kwargs which is doing the corrersponding thing for handling a variable number of keyword arguments. "
   ]
  },
  {
   "cell_type": "markdown",
   "id": "ef7614c7-e35f-46dd-895d-36223cee9630",
   "metadata": {},
   "source": [
    "# Multiple Return Values\n",
    "## It is possible to return multiple values when creating a function."
   ]
  },
  {
   "cell_type": "code",
   "execution_count": 11,
   "id": "00a2196c-c7eb-4ed8-a4cd-bcac519d19c6",
   "metadata": {},
   "outputs": [],
   "source": [
    "def f(x):\n",
    "    \"\"\"Return the argument, argument squared and the argument cubed iin a tuple.\"\"\"\n",
    "    return (x, x**2, x**3)"
   ]
  },
  {
   "cell_type": "code",
   "execution_count": 13,
   "id": "e193bf12-9fd1-48b8-a3a7-371c0f59471d",
   "metadata": {},
   "outputs": [
    {
     "name": "stdout",
     "output_type": "stream",
     "text": [
      "(3, 9, 27)\n",
      "9\n"
     ]
    }
   ],
   "source": [
    "# Return the tuple in a variable.\n",
    "first_method = f(3)\n",
    "print(first_method)\n",
    "print(first_method[1])"
   ]
  },
  {
   "cell_type": "code",
   "execution_count": 14,
   "id": "c0965fc9-beb3-45ec-ac08-d2c298f84c87",
   "metadata": {},
   "outputs": [
    {
     "name": "stdout",
     "output_type": "stream",
     "text": [
      "3\n",
      "9\n",
      "27\n"
     ]
    }
   ],
   "source": [
    "# Return the answer in multiple variables by tuple unpacking.\n",
    "x1, x2, x3= f(3)\n",
    "\n",
    "print(x1)\n",
    "print(x2)\n",
    "print(x3)"
   ]
  }
 ],
 "metadata": {
  "kernelspec": {
   "display_name": "Python 3 (ipykernel)",
   "language": "python",
   "name": "python3"
  },
  "language_info": {
   "codemirror_mode": {
    "name": "ipython",
    "version": 3
   },
   "file_extension": ".py",
   "mimetype": "text/x-python",
   "name": "python",
   "nbconvert_exporter": "python",
   "pygments_lexer": "ipython3",
   "version": "3.12.4"
  }
 },
 "nbformat": 4,
 "nbformat_minor": 5
}
