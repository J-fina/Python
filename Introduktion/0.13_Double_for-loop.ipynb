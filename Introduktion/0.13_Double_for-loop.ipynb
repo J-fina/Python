{
 "cells": [
  {
   "cell_type": "markdown",
   "id": "b0b01035-a1be-4aec-8049-914261e099dd",
   "metadata": {},
   "source": [
    "# A Double For-loop\n",
    "## We can create double (triple, quadruple, ...) for-loops."
   ]
  },
  {
   "cell_type": "code",
   "execution_count": 6,
   "id": "3c5ccbce-66d3-415b-b610-61e82b8348a8",
   "metadata": {},
   "outputs": [
    {
     "name": "stdout",
     "output_type": "stream",
     "text": [
      "\n",
      "0*0 = 0\n",
      "\n",
      "1*0 = 0\n",
      "1*1 = 1\n",
      "\n",
      "2*0 = 0\n",
      "2*1 = 2\n",
      "2*2 = 4\n",
      "\n",
      "3*0 = 0\n",
      "3*1 = 3\n",
      "3*2 = 6\n",
      "3*3 = 9\n",
      "\n",
      "4*0 = 0\n",
      "4*1 = 4\n",
      "4*2 = 8\n",
      "4*3 = 12\n",
      "4*4 = 16\n"
     ]
    }
   ],
   "source": [
    "# Example on using a double for-loop.\n",
    "for i in range(5):   # Yttre for-loop, itererar över värdena 0, 1, 2, 3, 4\n",
    "    print()          # Skriver ut en tom rad (skapar mellanrum)\n",
    "    for j in range(i+1):   # Inre for-loop, itererar över värdena från 0 till i\n",
    "        print(f'{i}*{j} =', i*j)   # Skriver ut i gånger j och resultatet"
   ]
  },
  {
   "cell_type": "markdown",
   "id": "35acf9a0-7bb0-4516-82bc-c3d36685bc1c",
   "metadata": {},
   "source": [
    "for i in range(5):\n",
    "Detta är den yttre for-loopen. Här kommer variabeln i att anta värdena från 0 till 4, eftersom range(5) genererar talen 0, 1, 2, 3 och 4. Denna loop körs alltså fem gånger totalt, en gång för varje värde på i.\n",
    "\n",
    "print()\n",
    "Den här raden skapar ett mellanrum mellan de olika grupperna av multiplikationer. Det skriver ut en tom rad för varje nytt värde på i, så att resultaten grupperas snyggt.\n",
    "\n",
    "for j in range(i+1):\n",
    "Detta är en inre for-loop, som körs för varje värde på i. Den itererar över värdena från 0 till i. Till exempel, när i = 2, kommer j att anta värdena 0, 1 och 2 (eftersom range(i+1) genererar talen från 0 upp till men inte inkluderat i+1). Detta betyder att inre loopen kommer att köra fler gånger för varje större värde på i.\n",
    "\n",
    "print(f'{i}*{j} =', i*j)\n",
    "Den här raden skriver ut multiplikationen mellan i och j. Den använder en så kallad f-string (formattering av strängar) för att skriva ut en läsbar sträng som ser ut som t.ex. \"2*3 = 6\". Här beräknas alltså produkten av i och j och resultatet skrivs ut på samma rad."
   ]
  }
 ],
 "metadata": {
  "kernelspec": {
   "display_name": "Python 3 (ipykernel)",
   "language": "python",
   "name": "python3"
  },
  "language_info": {
   "codemirror_mode": {
    "name": "ipython",
    "version": 3
   },
   "file_extension": ".py",
   "mimetype": "text/x-python",
   "name": "python",
   "nbconvert_exporter": "python",
   "pygments_lexer": "ipython3",
   "version": "3.12.5"
  }
 },
 "nbformat": 4,
 "nbformat_minor": 5
}
