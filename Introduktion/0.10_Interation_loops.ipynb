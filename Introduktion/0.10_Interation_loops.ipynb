{
 "cells": [
  {
   "cell_type": "markdown",
   "id": "fae89663-2ca5-4ab3-ad64-5673d06bab6a",
   "metadata": {},
   "source": [
    "# Chapter: Iteration & Loops\n",
    "## Lists, tuples, dictionaries, and sets are itarable objekts meaning that we can traverse through their values in a for loop for example."
   ]
  },
  {
   "cell_type": "code",
   "execution_count": 1,
   "id": "8fd39b11-e703-49bd-ad43-91d4dc2a53d5",
   "metadata": {},
   "outputs": [
    {
     "name": "stdout",
     "output_type": "stream",
     "text": [
      "Zidane\n",
      "Figo\n",
      "Raul\n",
      "Carlos\n",
      "Casillas\n",
      "Ronaldo\n"
     ]
    }
   ],
   "source": [
    "players = ['Zidane', 'Figo', 'Raul', 'Carlos', 'Casillas', 'Ronaldo']\n",
    "\n",
    "for i in players:\n",
    "    print(i)"
   ]
  },
  {
   "cell_type": "code",
   "execution_count": 2,
   "id": "945b5705-95b2-4743-bcee-e6337b1e35f1",
   "metadata": {},
   "outputs": [
    {
     "name": "stdout",
     "output_type": "stream",
     "text": [
      "Zidane\n",
      "Figo\n",
      "Raul\n",
      "Carlos\n",
      "Casillas\n",
      "Ronaldo\n"
     ]
    }
   ],
   "source": [
    "for player in players:\n",
    "    print(player)"
   ]
  }
 ],
 "metadata": {
  "kernelspec": {
   "display_name": "Python 3 (ipykernel)",
   "language": "python",
   "name": "python3"
  },
  "language_info": {
   "codemirror_mode": {
    "name": "ipython",
    "version": 3
   },
   "file_extension": ".py",
   "mimetype": "text/x-python",
   "name": "python",
   "nbconvert_exporter": "python",
   "pygments_lexer": "ipython3",
   "version": "3.12.5"
  }
 },
 "nbformat": 4,
 "nbformat_minor": 5
}
