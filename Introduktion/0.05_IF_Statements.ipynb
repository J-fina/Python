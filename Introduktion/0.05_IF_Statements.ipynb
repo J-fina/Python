{
 "cells": [
  {
   "cell_type": "markdown",
   "id": "e1a1fdd9-3c9f-4722-ac3f-fba3b8c90700",
   "metadata": {},
   "source": [
    "# IF Statements\n",
    "## Booleans are often used with if statements, e.g. you want to do samething if a condition is tro, else you do something else."
   ]
  },
  {
   "cell_type": "code",
   "execution_count": 2,
   "id": "5ee4cfd9-dab7-4b7d-9758-5b2b4658afde",
   "metadata": {},
   "outputs": [
    {
     "name": "stdout",
     "output_type": "stream",
     "text": [
      "The price is 10\n"
     ]
    }
   ],
   "source": [
    "price = 10\n",
    "\n",
    "if price == 10:\n",
    "    print('The price is 10')\n",
    "elif price == 15: # else if\n",
    "    print('The price is 15')\n",
    "else:\n",
    "    print('The price is neither 10 or 15')"
   ]
  }
 ],
 "metadata": {
  "kernelspec": {
   "display_name": "Python 3 (ipykernel)",
   "language": "python",
   "name": "python3"
  },
  "language_info": {
   "codemirror_mode": {
    "name": "ipython",
    "version": 3
   },
   "file_extension": ".py",
   "mimetype": "text/x-python",
   "name": "python",
   "nbconvert_exporter": "python",
   "pygments_lexer": "ipython3",
   "version": "3.12.5"
  }
 },
 "nbformat": 4,
 "nbformat_minor": 5
}
