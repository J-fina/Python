{
 "cells": [
  {
   "cell_type": "markdown",
   "id": "cc2db15b-30d4-4e12-80e1-b8bd9ed1cfd9",
   "metadata": {},
   "source": [
    "# Numeric types\n",
    "## There are three distinct numeric types: integers, floating point numbers, and complex numbers."
   ]
  },
  {
   "cell_type": "code",
   "execution_count": 6,
   "id": "6659d45a-8ad5-488d-bcb0-f7718d6e6e41",
   "metadata": {},
   "outputs": [
    {
     "name": "stdout",
     "output_type": "stream",
     "text": [
      "type of a <class 'int'>\n",
      "type of a2 <class 'float'>\n",
      "type of a3 <class 'float'>\n",
      "type of a4 <class 'int'>\n"
     ]
    }
   ],
   "source": [
    "# Integrals and floats.\n",
    "a = 5\n",
    "a2 = 5.0\n",
    "a3 = float(a)\n",
    "a4 = int(a3)\n",
    "\n",
    "print('type of a', type(a))\n",
    "print('type of a2', type(a2))\n",
    "print('type of a3', type(a3))\n",
    "print('type of a4', type(a4))"
   ]
  },
  {
   "cell_type": "code",
   "execution_count": 7,
   "id": "a4e45573-d8fe-45a7-a0e0-3d185ac04753",
   "metadata": {},
   "outputs": [
    {
     "name": "stdout",
     "output_type": "stream",
     "text": [
      "5.0 <class 'float'>\n",
      "\n",
      "1.6666666666666667 <class 'float'>\n"
     ]
    }
   ],
   "source": [
    "# An operation on an integer and float returns  a float.\n",
    "b = 2 + 3.0\n",
    "print(b, type(b))\n",
    "print()\n",
    "\n",
    "# The result of 5/3 is not an integer so we get a float.\n",
    "print(5/3, type(5/3))"
   ]
  },
  {
   "cell_type": "code",
   "execution_count": 8,
   "id": "4547d916-a9c7-4426-b255-405a9ed88173",
   "metadata": {},
   "outputs": [
    {
     "name": "stdout",
     "output_type": "stream",
     "text": [
      "0.10000000000000003\n"
     ]
    },
    {
     "data": {
      "text/plain": [
       "False"
      ]
     },
     "execution_count": 8,
     "metadata": {},
     "output_type": "execute_result"
    }
   ],
   "source": [
    "# Possible \"dangers\" with floats. Good to be aware of, but not to worry to much.\n",
    "print(0.4 - 0.3) # The exact anserr is 0.1\n",
    "0.4 - 0.3 == 0.1\n",
    "\n",
    "# Long story short, floats are represented in the computer as base 2 fractions, meaning its is not \"exact\". \n",
    "# If you want to read more about it, check this: http://docs.python.org/tutorial/floatingpoint.html"
   ]
  },
  {
   "cell_type": "code",
   "execution_count": 14,
   "id": "e8428ba6-913a-4af8-a46b-766ac0e18caf",
   "metadata": {},
   "outputs": [
    {
     "name": "stdout",
     "output_type": "stream",
     "text": [
      "True\n",
      "1/10\n"
     ]
    }
   ],
   "source": [
    "import math\n",
    "from fractions import Fraction  # Importera Fraction från fractions-modulen\n",
    "\n",
    "# Jämförelse med math.isclose()\n",
    "print(math.isclose(0.4 - 0.3, 0.1))  # Kommer att returnera True\n",
    "\n",
    "# Använd Fraction för exakta bråktalsberäkningar\n",
    "resultat = Fraction(4, 10) - Fraction(3, 10)\n",
    "print(resultat)  # Skriver ut 1/10"
   ]
  },
  {
   "cell_type": "code",
   "execution_count": 15,
   "id": "44920af0-2aa3-48ec-8c4d-ec2c15789c88",
   "metadata": {},
   "outputs": [
    {
     "name": "stdout",
     "output_type": "stream",
     "text": [
      "<class 'complex'>\n",
      "real part 2.0\n",
      "imaginary part 3.0\n",
      "conjugate of z: (2-3j)\n"
     ]
    }
   ],
   "source": [
    "# Complex numbers.\n",
    "z = 2+ 3j\n",
    "print(type(z))\n",
    "\n",
    "# Some calculations.\n",
    "print('real part', z.real)\n",
    "print('imaginary part', z.imag)\n",
    "print('conjugate of z:', z.conjugate())"
   ]
  }
 ],
 "metadata": {
  "kernelspec": {
   "display_name": "Python 3 (ipykernel)",
   "language": "python",
   "name": "python3"
  },
  "language_info": {
   "codemirror_mode": {
    "name": "ipython",
    "version": 3
   },
   "file_extension": ".py",
   "mimetype": "text/x-python",
   "name": "python",
   "nbconvert_exporter": "python",
   "pygments_lexer": "ipython3",
   "version": "3.12.5"
  }
 },
 "nbformat": 4,
 "nbformat_minor": 5
}
