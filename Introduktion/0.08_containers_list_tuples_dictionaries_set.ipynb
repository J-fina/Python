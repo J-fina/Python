{
 "cells": [
  {
   "cell_type": "markdown",
   "id": "e699ff6d-7231-4042-bebc-974d37bc98c9",
   "metadata": {},
   "source": [
    "# Containers\n",
    "## Containers are used to group objects together. The core built-in containers in Python are:\n",
    "- Lists\n",
    "- Tuples\n",
    "- Dictionaries\n",
    "- Set"
   ]
  },
  {
   "cell_type": "markdown",
   "id": "19735b46-b134-4ff8-96ca-d9eb5a816d64",
   "metadata": {},
   "source": [
    "### Lists - can contain items of different types, they are mutable meaning we can change their content and we can also index them (to get a single element) or slice them (to get sequence of elements)."
   ]
  },
  {
   "cell_type": "code",
   "execution_count": 1,
   "id": "2efc826f-1490-4c63-9f50-a095af693733",
   "metadata": {},
   "outputs": [
    {
     "name": "stdout",
     "output_type": "stream",
     "text": [
      "[5, 9.0, 12, 'Python', 'Is fun']\n",
      "<class 'list'>\n"
     ]
    }
   ],
   "source": [
    "# Creating a list.\n",
    "L = [5, 9.0, 12, 'Python', 'Is fun']\n",
    "\n",
    "print(L)\n",
    "print(type(L))"
   ]
  },
  {
   "cell_type": "code",
   "execution_count": 2,
   "id": "fc73bee8-badc-4509-a3c0-0c2a307a7c31",
   "metadata": {},
   "outputs": [
    {
     "name": "stdout",
     "output_type": "stream",
     "text": [
      "5\n"
     ]
    }
   ],
   "source": [
    "# Extracting the first element with indexing. In python starts from 0.\n",
    "print(L[0])"
   ]
  },
  {
   "cell_type": "code",
   "execution_count": 3,
   "id": "67547877-282b-4aa8-a961-9c579900f1de",
   "metadata": {},
   "outputs": [
    {
     "name": "stdout",
     "output_type": "stream",
     "text": [
      "[9.0, 12, 'Python']\n"
     ]
    }
   ],
   "source": [
    "# When slicing a list the left bound is included while the right is not.\n",
    "# So we only get the elements with index values ranging from 1 to 3 in the code below\n",
    "print(L[1:4])"
   ]
  },
  {
   "cell_type": "code",
   "execution_count": 4,
   "id": "98906a3b-08ef-4ae8-bf49-59f0bbca9865",
   "metadata": {},
   "outputs": [
    {
     "name": "stdout",
     "output_type": "stream",
     "text": [
      "[5, 99, 12, 'Python', 'Is fun']\n"
     ]
    }
   ],
   "source": [
    "# Changing the content of out list.\n",
    "L[1] = 99\n",
    "print(L)"
   ]
  },
  {
   "cell_type": "markdown",
   "id": "f525617d-b880-4e83-b812-929659df4a15",
   "metadata": {},
   "source": [
    "## Indexing & Slicing lissts\n",
    "### Main things have in mind:\n",
    "\n",
    "- Indexing starts from 0\n",
    "- When slicing a list the left bound is included while the right is not."
   ]
  },
  {
   "cell_type": "code",
   "execution_count": 6,
   "id": "813a46d7-c5a0-4322-9fe4-1ac95ebeac2d",
   "metadata": {},
   "outputs": [
    {
     "name": "stdout",
     "output_type": "stream",
     "text": [
      "p\n",
      "\n",
      "last\n"
     ]
    }
   ],
   "source": [
    "L1 = [\"p\", 5, 11, \"apples\", 3, 4, 7, 12, 14, \"last\"]\n",
    "\n",
    "# Some basic indexing\n",
    "print(L1[0])\n",
    "print()\n",
    "\n",
    "# Returning the last element.\n",
    "print(L1[-1])"
   ]
  },
  {
   "cell_type": "code",
   "execution_count": 7,
   "id": "762f91e1-a534-42eb-bb99-62a8261cf807",
   "metadata": {},
   "outputs": [
    {
     "name": "stdout",
     "output_type": "stream",
     "text": [
      "['p', 5, 11, 'apples', 3, 4, 7, 12, 14, 'last']\n",
      "['p', 'apples']\n",
      "['p', 5]\n",
      "[7, 12, 14]\n"
     ]
    }
   ],
   "source": [
    "# Slicing: L1[start:stop[:step]]\n",
    "# The stepsize is by default 1 and can be omitted.\n",
    "\n",
    "print(L1)\n",
    "\n",
    "print(L1[0:5:3])\n",
    "print(L1[0:2]) # Right bound is not included and step size is by default 1.\n",
    "print(L1[-4:-1])"
   ]
  },
  {
   "cell_type": "code",
   "execution_count": 8,
   "id": "81a8ed31-ce8e-464d-a8f9-f86b8e0e8558",
   "metadata": {},
   "outputs": [
    {
     "name": "stdout",
     "output_type": "stream",
     "text": [
      "['p', 5, 11, 'apples', 3, 4, 7, 12, 14, 'last']\n",
      "['p', 11, 3, 7, 14]\n",
      "['last', 14, 12, 7, 4, 3, 'apples', 11, 5, 'p']\n"
     ]
    }
   ],
   "source": [
    "# More axamples on slicing.\n",
    "print(L1[:]) # Get all elements.\n",
    "print(L1[::2]) # Get every second element.\n",
    "print(L1[::-1]) #Reversing the list by using a step of -1."
   ]
  },
  {
   "cell_type": "code",
   "execution_count": 9,
   "id": "6fb7600f-524f-4582-938b-605bf71a1b4f",
   "metadata": {},
   "outputs": [
    {
     "name": "stdout",
     "output_type": "stream",
     "text": [
      "[]\n"
     ]
    }
   ],
   "source": [
    "# Slicing out-of-bound teturns an empty list.\n",
    "print(L1[100:200])"
   ]
  },
  {
   "cell_type": "code",
   "execution_count": 10,
   "id": "cba0c273-f50e-4a01-9909-7eccd254f554",
   "metadata": {},
   "outputs": [
    {
     "ename": "IndexError",
     "evalue": "list index out of range",
     "output_type": "error",
     "traceback": [
      "\u001b[1;31m---------------------------------------------------------------------------\u001b[0m",
      "\u001b[1;31mIndexError\u001b[0m                                Traceback (most recent call last)",
      "Cell \u001b[1;32mIn[10], line 2\u001b[0m\n\u001b[0;32m      1\u001b[0m \u001b[38;5;66;03m# Indexing out of bound returns an error\u001b[39;00m\n\u001b[1;32m----> 2\u001b[0m L1[\u001b[38;5;241m100\u001b[39m]\n",
      "\u001b[1;31mIndexError\u001b[0m: list index out of range"
     ]
    }
   ],
   "source": [
    "# Indexing out of bound returns an error\n",
    "L1[100]"
   ]
  },
  {
   "cell_type": "markdown",
   "id": "634e4eb7-c6e7-496a-a32f-af9f867b647a",
   "metadata": {},
   "source": [
    "## List methods\n",
    "### Methods are functions availible for a given object which will be lists in this video."
   ]
  },
  {
   "cell_type": "code",
   "execution_count": 11,
   "id": "5a032997-e668-4be6-ad57-5c8f38d2c68d",
   "metadata": {},
   "outputs": [
    {
     "name": "stdout",
     "output_type": "stream",
     "text": [
      "[0, 1, 1, 2, 3, 5, 8, 13, 21, ['Python', 'is', 'Awesome!']]\n",
      "[0, 1, 1, 2, 3, 5, 8, 13, 21, ['Python', 'is', 'Awesome!'], 'Python', 'is', 'Awesome!']\n"
     ]
    }
   ],
   "source": [
    "L2 = [0, 1, 1, 2, 3, 5, 8, 13, 21]\n",
    "L3 = ['Python', 'is', 'Awesome!']\n",
    "\n",
    "L2.append(L3)\n",
    "print(L2) # Now our list contains a list.\n",
    "\n",
    "# Notice \"append\" adds the whole list while \"extend\" adds the individual elements in the list.\n",
    "L2.extend(L3)\n",
    "print(L2)"
   ]
  },
  {
   "cell_type": "code",
   "execution_count": 12,
   "id": "4dca4b8c-9a80-4b65-9580-c212e4a3fe5e",
   "metadata": {},
   "outputs": [
    {
     "name": "stdout",
     "output_type": "stream",
     "text": [
      "['Python', 'is', 'Awesome!']\n",
      "Python\n"
     ]
    }
   ],
   "source": [
    "# A small detour on indexing/slicing.\n",
    "# We get the list in the list.\n",
    "print(L2[-4])\n",
    "# We index the list inside the list.\n",
    "print(L2[-4][0])"
   ]
  },
  {
   "cell_type": "code",
   "execution_count": 14,
   "id": "7e73a9b4-3f3c-4638-91ea-acf06da51009",
   "metadata": {},
   "outputs": [
    {
     "name": "stdout",
     "output_type": "stream",
     "text": [
      "[0, 1, 1, 2, 3, 5, 13, 21, ['Python', 'is', 'Awesome!'], 'Python', 'is']\n",
      "[0, 1, 1, 2, 3, 5, 21, ['Python', 'is', 'Awesome!'], 'Python', 'is']\n",
      "[0, 1, 1, 2, 3, 5, 21, ['Python', 'is', 'Awesome!'], 'Python']\n",
      "is\n"
     ]
    }
   ],
   "source": [
    "# The pop function removes and return the element with a specific index value or\n",
    "# the last element if no value is provided.\n",
    "\n",
    "# Remove the element with index value 6.\n",
    "print(L2)\n",
    "L2.pop(6)\n",
    "print(L2)\n",
    "\n",
    "# If no index value provided the last element is removed. In this case we stored it in the variable last.\n",
    "last = L2.pop()\n",
    "print(L2)\n",
    "print(last)\n",
    "\n"
   ]
  },
  {
   "cell_type": "code",
   "execution_count": 15,
   "id": "f94135cf-2cd6-40c2-be8b-4f5a6967cc5e",
   "metadata": {},
   "outputs": [
    {
     "name": "stdout",
     "output_type": "stream",
     "text": [
      "['Python', ['Python', 'is', 'Awesome!'], 21, 5, 3, 2, 1, 1, 0]\n"
     ]
    }
   ],
   "source": [
    "# Reverse the list.\n",
    "L2.reverse()\n",
    "print(L2)"
   ]
  },
  {
   "cell_type": "code",
   "execution_count": 16,
   "id": "82846ac7-3a29-4da3-b0ee-870fe009b578",
   "metadata": {},
   "outputs": [
    {
     "name": "stdout",
     "output_type": "stream",
     "text": [
      "['Python', ['Python', 'is', 'Awesome!'], 21, 5, 3, 2, 1, 1, 0]\n",
      "2\n"
     ]
    }
   ],
   "source": [
    "#count the number of times an element accurs\n",
    "print(L2)\n",
    "print(L2.count(1))"
   ]
  },
  {
   "cell_type": "markdown",
   "id": "baa698c2-3b23-4d3b-a6fe-520c3009bc02",
   "metadata": {},
   "source": [
    "## List comprenension\n",
    "### With list comprehension we create a new list based on the values of an existing list."
   ]
  },
  {
   "cell_type": "code",
   "execution_count": 18,
   "id": "88335a93-9654-49b8-bb2e-7ca71315f8f0",
   "metadata": {},
   "outputs": [
    {
     "name": "stdout",
     "output_type": "stream",
     "text": [
      "[1, 2, 3, 4, 5, 6, 7, 8, 9, 10, 11, 12]\n",
      "[2, 4, 6]\n"
     ]
    }
   ],
   "source": [
    "numbers = [1, 2, 3, 4, 5, 6, 7, 8, 9, 10, 11, 12]\n",
    "print(numbers)\n",
    "\n",
    "# Notice \"x\" below is arbitraty and including a conditions is not necessary.\n",
    "new_list = [x*2 for x in numbers if 1 <= x <=3]\n",
    "print(new_list)"
   ]
  },
  {
   "cell_type": "code",
   "execution_count": 19,
   "id": "b422ced9-6c0c-4dbd-a288-88689b8454ae",
   "metadata": {},
   "outputs": [
    {
     "name": "stdout",
     "output_type": "stream",
     "text": [
      "[1, 2, 3, 4, 5, 6, 7, 8, 9, 10, 11, 12]\n",
      "[2, 4, 6, 8, 10, 12, 14, 16, 18, 20, 22, 24]\n"
     ]
    }
   ],
   "source": [
    "numbers = [1, 2, 3, 4, 5, 6, 7, 8, 9, 10, 11, 12]\n",
    "print(numbers)\n",
    "\n",
    "# Notice \"x\" below is arbitraty and including a conditions is not necessary.\n",
    "new_list = [x*2 for x in numbers]\n",
    "print(new_list)"
   ]
  },
  {
   "cell_type": "code",
   "execution_count": 20,
   "id": "8cc81bb4-0fa2-4560-ac17-55b4c2433611",
   "metadata": {},
   "outputs": [
    {
     "name": "stdout",
     "output_type": "stream",
     "text": [
      "[1, 2, 3, 4, 5, 6, 7, 8, 9, 10, 11, 12]\n",
      "[2, 4, 6, 8, 10, 12, 14, 16, 18, 20, 22, 24]\n"
     ]
    }
   ],
   "source": [
    "numbers = [1, 2, 3, 4, 5, 6, 7, 8, 9, 10, 11, 12]\n",
    "print(numbers)\n",
    "\n",
    "# Notice \"x\" below is arbitraty and including a conditions is not necessary.\n",
    "new_list = [apple_pie*2 for apple_pie in numbers]\n",
    "print(new_list)"
   ]
  },
  {
   "cell_type": "markdown",
   "id": "39f66123-8e34-4ddc-88c7-ff03a103383f",
   "metadata": {},
   "source": [
    "## Tuples\n",
    "### Tuples are immutable meaning you cannot change them. This property is for instance useful in situations when you know that the data should be changed making your code more robust and safer."
   ]
  },
  {
   "cell_type": "code",
   "execution_count": 22,
   "id": "db65fef1-e21c-43d8-ae9f-a66cae587ce9",
   "metadata": {},
   "outputs": [
    {
     "name": "stdout",
     "output_type": "stream",
     "text": [
      "(1, 2, 3, 'a', 'b', 'c')\n",
      "<class 'tuple'>\n",
      "\n",
      "(1, 2, 3)\n",
      "<class 'tuple'>\n"
     ]
    }
   ],
   "source": [
    "our_first_tuple = (1, 2, 3, 'a', 'b', 'c')\n",
    "print(our_first_tuple)\n",
    "print(type(our_first_tuple))\n",
    "print()\n",
    "\n",
    "# Parentheses are not neccessary when creating tuples.\n",
    "no_parentheses_needed = 1, 2, 3\n",
    "print(no_parentheses_needed)\n",
    "print(type(no_parentheses_needed))"
   ]
  },
  {
   "cell_type": "code",
   "execution_count": 23,
   "id": "eed842ac-5a32-4017-9579-8823bf6ba27e",
   "metadata": {},
   "outputs": [
    {
     "ename": "TypeError",
     "evalue": "'tuple' object does not support item assignment",
     "output_type": "error",
     "traceback": [
      "\u001b[1;31m---------------------------------------------------------------------------\u001b[0m",
      "\u001b[1;31mTypeError\u001b[0m                                 Traceback (most recent call last)",
      "Cell \u001b[1;32mIn[23], line 2\u001b[0m\n\u001b[0;32m      1\u001b[0m \u001b[38;5;66;03m# Tuple are immutable.\u001b[39;00m\n\u001b[1;32m----> 2\u001b[0m our_first_tuple[\u001b[38;5;241m0\u001b[39m] \u001b[38;5;241m=\u001b[39m \u001b[38;5;241m5\u001b[39m\n",
      "\u001b[1;31mTypeError\u001b[0m: 'tuple' object does not support item assignment"
     ]
    }
   ],
   "source": [
    "# Tuple are immutable.\n",
    "our_first_tuple[0] = 5"
   ]
  },
  {
   "cell_type": "code",
   "execution_count": 24,
   "id": "1f924e63-8f0a-4e6e-867d-6e7532cf8b08",
   "metadata": {},
   "outputs": [
    {
     "name": "stdout",
     "output_type": "stream",
     "text": [
      "1\n",
      "(2, 3, 'a', 'b')\n"
     ]
    }
   ],
   "source": [
    "# Indexing as with list.\n",
    "print(our_first_tuple[0])\n",
    "\n",
    "# Slicing as with list.\n",
    "print(our_first_tuple[1:5])"
   ]
  },
  {
   "cell_type": "code",
   "execution_count": 25,
   "id": "cac63422-acb0-4836-8c25-81674cb83332",
   "metadata": {},
   "outputs": [
    {
     "name": "stdout",
     "output_type": "stream",
     "text": [
      "<class 'int'>\n",
      "<class 'tuple'>\n"
     ]
    }
   ],
   "source": [
    "# Below is an integer (not a tuple).\n",
    "single_element_tuple = (1)\n",
    "print(type(single_element_tuple))\n",
    "\n",
    "# Must put a comma at the end.\n",
    "single_element_tuple_v2 = (1,)\n",
    "print(type(single_element_tuple_v2))"
   ]
  },
  {
   "cell_type": "markdown",
   "id": "1b063621-b5d2-4578-b474-5edecb13f8c5",
   "metadata": {},
   "source": [
    "# Dictionaries\n",
    "## Dictionaries are created by a key:value pair and are indexed by using keys which also are immutable"
   ]
  },
  {
   "cell_type": "code",
   "execution_count": 1,
   "id": "7756298b-cd1c-4279-b597-11de54705115",
   "metadata": {},
   "outputs": [
    {
     "name": "stdout",
     "output_type": "stream",
     "text": [
      "Bjarne\n",
      "<class 'dict'>\n"
     ]
    }
   ],
   "source": [
    "# Creating a register of same people each having a unique ID (key).\n",
    "register = {1: 'Ada', 3: 'Bjarne', 17: 'Guido'}\n",
    "\n",
    "print(register[3])\n",
    "print(type(register))"
   ]
  },
  {
   "cell_type": "code",
   "execution_count": 2,
   "id": "7f8f09a5-b1e4-4392-ae5f-c0100d692605",
   "metadata": {},
   "outputs": [
    {
     "name": "stdout",
     "output_type": "stream",
     "text": [
      "{1: 'Ada', 3: 'Bjarne', 17: 'Guido', 22: 'Dennis'}\n"
     ]
    }
   ],
   "source": [
    "# Adding a new person in our register.\n",
    "register [22] = 'Dennis'\n",
    "print(register)"
   ]
  },
  {
   "cell_type": "markdown",
   "id": "3309562c-2221-4e0b-83f0-46ddfde0eba5",
   "metadata": {},
   "source": [
    "# Sets\n",
    "## Sets are unordered collections with no duplicate elements."
   ]
  },
  {
   "cell_type": "code",
   "execution_count": 10,
   "id": "f9166a12-a451-4ef9-87aa-69eddfd12076",
   "metadata": {},
   "outputs": [],
   "source": [
    "set_1 = {'apple', 'apple', 'apple', 'banana', 'banana'}\n",
    "set_2 = set(['banana', 'apple'])\n",
    "set_3 = {'apple', 'grape'}"
   ]
  },
  {
   "cell_type": "code",
   "execution_count": 11,
   "id": "cba7bdb9-0a75-44f8-a2d5-feb7b0a0c6e2",
   "metadata": {},
   "outputs": [
    {
     "data": {
      "text/plain": [
       "{'apple', 'banana'}"
      ]
     },
     "execution_count": 11,
     "metadata": {},
     "output_type": "execute_result"
    }
   ],
   "source": [
    "set_1"
   ]
  },
  {
   "cell_type": "code",
   "execution_count": 12,
   "id": "3362f443-db86-4650-a00f-64ca6f4769f1",
   "metadata": {},
   "outputs": [
    {
     "data": {
      "text/plain": [
       "{'apple', 'banana'}"
      ]
     },
     "execution_count": 12,
     "metadata": {},
     "output_type": "execute_result"
    }
   ],
   "source": [
    "set_2"
   ]
  },
  {
   "cell_type": "code",
   "execution_count": 13,
   "id": "06e8aa18-6687-4375-8704-22d3d504d539",
   "metadata": {},
   "outputs": [
    {
     "data": {
      "text/plain": [
       "{'apple', 'grape'}"
      ]
     },
     "execution_count": 13,
     "metadata": {},
     "output_type": "execute_result"
    }
   ],
   "source": [
    "set_3"
   ]
  },
  {
   "cell_type": "code",
   "execution_count": 6,
   "id": "55c5b723-a67b-48bb-9f73-5a52ac33bead",
   "metadata": {},
   "outputs": [
    {
     "name": "stdout",
     "output_type": "stream",
     "text": [
      "True\n"
     ]
    }
   ],
   "source": [
    "# Since sets are unordered and contains no duplicate values set_1 is considered to be the same as set_2\n",
    "print(set_1 == set_2)"
   ]
  },
  {
   "cell_type": "code",
   "execution_count": 7,
   "id": "8a808530-5f64-4514-af30-94a97d1531a5",
   "metadata": {},
   "outputs": [
    {
     "name": "stdout",
     "output_type": "stream",
     "text": [
      "{1, 2, 3, 4}\n",
      "{2, 3}\n",
      "{1, 4}\n"
     ]
    }
   ],
   "source": [
    "# We can also perform the basic mathematical set calculations such as union, intersection, and differences.\n",
    "\n",
    "A = {1, 2, 3, 4}\n",
    "B = {3, 2} # Alternative way to create a set.\n",
    "\n",
    "# Calculating the union (elements atleast in one of the sets).\n",
    "print(A.union(B))\n",
    "\n",
    "# Calculation the intersection (elements that are in both sets).\n",
    "print(A.intersection(B))\n",
    "\n",
    "# Calculating the difference (elements that are in A but not B).\n",
    "print(A.difference(B))"
   ]
  },
  {
   "cell_type": "code",
   "execution_count": 9,
   "id": "8b230675-0fba-4ae1-898c-8d2f4f7ed81e",
   "metadata": {},
   "outputs": [
    {
     "name": "stdout",
     "output_type": "stream",
     "text": [
      "<class 'dict'>\n",
      "<class 'set'>\n"
     ]
    }
   ],
   "source": [
    "# Creating an empty set.\n",
    "empty_set_wrong = {}\n",
    "print(type(empty_set_wrong))\n",
    "\n",
    "empty_set = set([])\n",
    "print(type(empty_set))"
   ]
  }
 ],
 "metadata": {
  "kernelspec": {
   "display_name": "Python 3 (ipykernel)",
   "language": "python",
   "name": "python3"
  },
  "language_info": {
   "codemirror_mode": {
    "name": "ipython",
    "version": 3
   },
   "file_extension": ".py",
   "mimetype": "text/x-python",
   "name": "python",
   "nbconvert_exporter": "python",
   "pygments_lexer": "ipython3",
   "version": "3.12.5"
  }
 },
 "nbformat": 4,
 "nbformat_minor": 5
}
