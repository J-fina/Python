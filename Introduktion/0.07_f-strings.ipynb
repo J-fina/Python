{
 "cells": [
  {
   "cell_type": "markdown",
   "id": "ca2b847a-c35d-400e-abf8-787c3f49da8d",
   "metadata": {},
   "source": [
    "# Formatted strings\n",
    "## f-strings make out code more \"dynamic\" and allow use to add variables to a string"
   ]
  },
  {
   "cell_type": "code",
   "execution_count": 1,
   "id": "c5f49954-dc6b-4b5f-8a23-3eff158ce402",
   "metadata": {},
   "outputs": [
    {
     "name": "stdout",
     "output_type": "stream",
     "text": [
      "It all started in February, 1991,\n"
     ]
    }
   ],
   "source": [
    "month = 'February'\n",
    "year = 1991\n",
    "\n",
    "print(f'It all started in {month}, {year},')"
   ]
  }
 ],
 "metadata": {
  "kernelspec": {
   "display_name": "Python 3 (ipykernel)",
   "language": "python",
   "name": "python3"
  },
  "language_info": {
   "codemirror_mode": {
    "name": "ipython",
    "version": 3
   },
   "file_extension": ".py",
   "mimetype": "text/x-python",
   "name": "python",
   "nbconvert_exporter": "python",
   "pygments_lexer": "ipython3",
   "version": "3.12.5"
  }
 },
 "nbformat": 4,
 "nbformat_minor": 5
}
