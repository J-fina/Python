{
 "cells": [
  {
   "cell_type": "markdown",
   "id": "a0f58772-9d39-446b-88af-9572adaf177c",
   "metadata": {},
   "source": [
    "# The enumerate Function\n",
    "## We can easily keep track of the iteration number by using the enumerate function in a loop."
   ]
  },
  {
   "cell_type": "code",
   "execution_count": 1,
   "id": "a288121d-1a1a-4981-9463-5003a6de3360",
   "metadata": {},
   "outputs": [
    {
     "name": "stdout",
     "output_type": "stream",
     "text": [
      "0 Zidane\n",
      "1 Figo\n",
      "2 Raul\n",
      "3 Carlos\n",
      "4 Casillas\n",
      "5 Ronaldo\n"
     ]
    }
   ],
   "source": [
    "players = ['Zidane', 'Figo', 'Raul', 'Carlos', 'Casillas', 'Ronaldo']\n",
    "\n",
    "# Using the enumerate function.\n",
    "for iteration_nr, i in enumerate(players):\n",
    "    print(iteration_nr, i)"
   ]
  },
  {
   "cell_type": "code",
   "execution_count": 2,
   "id": "a66cee81-395e-45f7-abaf-f82e2a4d200d",
   "metadata": {},
   "outputs": [
    {
     "name": "stdout",
     "output_type": "stream",
     "text": [
      "0 Zidane\n",
      "1 Figo\n",
      "2 Raul\n",
      "3 Carlos\n",
      "4 Casillas\n",
      "5 Ronaldo\n"
     ]
    }
   ],
   "source": [
    "# Using the enumerate function is the recommended approach.\n",
    "for i in range(len(players)):\n",
    "    print(i, players[i])"
   ]
  }
 ],
 "metadata": {
  "kernelspec": {
   "display_name": "Python 3 (ipykernel)",
   "language": "python",
   "name": "python3"
  },
  "language_info": {
   "codemirror_mode": {
    "name": "ipython",
    "version": 3
   },
   "file_extension": ".py",
   "mimetype": "text/x-python",
   "name": "python",
   "nbconvert_exporter": "python",
   "pygments_lexer": "ipython3",
   "version": "3.12.4"
  }
 },
 "nbformat": 4,
 "nbformat_minor": 5
}
