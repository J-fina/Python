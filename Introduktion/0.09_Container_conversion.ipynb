{
 "cells": [
  {
   "cell_type": "markdown",
   "id": "b14a3bf2-f8d2-4fe3-9834-abbc43b78540",
   "metadata": {},
   "source": [
    "# Container Conversion\n",
    "## It is straightforward to convert lists, tuples and sets frome one container type to antoher."
   ]
  },
  {
   "cell_type": "code",
   "execution_count": 3,
   "id": "5ecca749-ee6a-449b-8cab-fe111a54703d",
   "metadata": {},
   "outputs": [],
   "source": [
    "my_list = [1, 2, 3]\n",
    "my_tuple = ('easy', 'as')\n",
    "my_set = {4, 5, 6}"
   ]
  },
  {
   "cell_type": "code",
   "execution_count": 4,
   "id": "a1d7e153-b63f-43ce-ad21-86388d816671",
   "metadata": {},
   "outputs": [
    {
     "name": "stdout",
     "output_type": "stream",
     "text": [
      "['easy', 'as']\n",
      "[4, 5, 6]\n",
      "\n",
      "(1, 2, 3)\n",
      "(4, 5, 6)\n",
      "\n",
      "{1, 2, 3}\n",
      "{'as', 'easy'}\n"
     ]
    }
   ],
   "source": [
    "# Demostrating that we easily can change container type.\n",
    "print(list(my_tuple))  # Converts tuple to list\n",
    "print(list(my_set))    # Converts set to list\n",
    "print()\n",
    "\n",
    "print(tuple(my_list))  # Converts list to tuple\n",
    "print(tuple(my_set))   # Converts set to tuple\n",
    "print()\n",
    "\n",
    "print(set(my_list))    # Converts list to set\n",
    "print(set(my_tuple))   # Converts tuple to set"
   ]
  },
  {
   "cell_type": "markdown",
   "id": "ef42e5d3-ec0f-4ef3-9621-5d5d1c7b4013",
   "metadata": {},
   "source": [
    "# Examples on Containers Conversions\n",
    "## Diffrent containers have different properties, this can be exploited to solve different kind of problems."
   ]
  },
  {
   "cell_type": "code",
   "execution_count": 2,
   "id": "67eee6a7-aae1-4228-862f-402ceb35ab70",
   "metadata": {},
   "outputs": [
    {
     "name": "stdout",
     "output_type": "stream",
     "text": [
      "True\n"
     ]
    }
   ],
   "source": [
    "# Question 1: Do the lists l1 and l2 contain the same elements (duplicates and order does not matter)?\n",
    "l1 = [1, 2, 2, 1, 2, 3]\n",
    "l2 = [1, 2, 3]\n",
    "\n",
    "# Easily solved by for example using that sets do not care about either order or duplications. \n",
    "print(set(l1) == set (l2))"
   ]
  },
  {
   "cell_type": "code",
   "execution_count": 3,
   "id": "2392829d-cbd9-417b-859c-afa3b716ab49",
   "metadata": {},
   "outputs": [
    {
     "name": "stdout",
     "output_type": "stream",
     "text": [
      "{105, 10, 100}\n"
     ]
    }
   ],
   "source": [
    "# Question 2: What elements does t1 and y2 have in common?\n",
    "t1 = (5, 10, 100, 105, 77)\n",
    "t2 = (1, 2, 10, 101, 105, 100, 44, 23, 25)\n",
    "\n",
    "# Use the intersection method of sets.\n",
    "print(set(t1).intersection(set(t2)))"
   ]
  }
 ],
 "metadata": {
  "kernelspec": {
   "display_name": "Python 3 (ipykernel)",
   "language": "python",
   "name": "python3"
  },
  "language_info": {
   "codemirror_mode": {
    "name": "ipython",
    "version": 3
   },
   "file_extension": ".py",
   "mimetype": "text/x-python",
   "name": "python",
   "nbconvert_exporter": "python",
   "pygments_lexer": "ipython3",
   "version": "3.12.5"
  }
 },
 "nbformat": 4,
 "nbformat_minor": 5
}
