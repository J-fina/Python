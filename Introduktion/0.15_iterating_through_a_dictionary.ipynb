{
 "cells": [
  {
   "cell_type": "markdown",
   "id": "b447cd74-e447-4c27-9092-2200d0705128",
   "metadata": {},
   "source": [
    "# Iterating Through a Dictionary\n",
    "## We can either iterate through the items, keys or values in a dictionary."
   ]
  },
  {
   "cell_type": "code",
   "execution_count": 3,
   "id": "30ac1d9e-77a4-48d7-8ad4-265d7d30edfc",
   "metadata": {},
   "outputs": [
    {
     "name": "stdout",
     "output_type": "stream",
     "text": [
      "('Anna', 35)\n",
      "<class 'tuple'>\n",
      "\n",
      "('Hanna', 65)\n",
      "<class 'tuple'>\n",
      "\n",
      "('Carl', 13)\n",
      "<class 'tuple'>\n",
      "\n"
     ]
    }
   ],
   "source": [
    "customer_age = {'Anna': 35, 'Hanna': 65, 'Carl': 13}\n",
    "\n",
    "# Iterating through items (returns a tuple).\n",
    "for item in customer_age.items():\n",
    "    print(item)\n",
    "    print(type(item))\n",
    "    print()"
   ]
  },
  {
   "cell_type": "code",
   "execution_count": 5,
   "id": "4430e170-5be0-4b85-b9d5-b46fbaf5f4d5",
   "metadata": {},
   "outputs": [
    {
     "name": "stdout",
     "output_type": "stream",
     "text": [
      "Anna 35\n",
      "<class 'str'> <class 'int'>\n",
      "\n",
      "Hanna 65\n",
      "<class 'str'> <class 'int'>\n",
      "\n",
      "Carl 13\n",
      "<class 'str'> <class 'int'>\n",
      "\n"
     ]
    }
   ],
   "source": [
    "# Iterating through items but unpacking the tuple by using two looping variables.\n",
    "for key, value in customer_age.items():\n",
    "    print(key, value)\n",
    "    print(type(key), type(value))\n",
    "    print()"
   ]
  },
  {
   "cell_type": "code",
   "execution_count": 10,
   "id": "1b957bf7-fe06-4127-b9c5-4e8e63a6b2cb",
   "metadata": {},
   "outputs": [
    {
     "name": "stdout",
     "output_type": "stream",
     "text": [
      "Anna\n",
      "Hanna\n",
      "Carl\n"
     ]
    }
   ],
   "source": [
    "# Iterating through keys.\n",
    "for key in customer_age.keys():\n",
    "    print(key)"
   ]
  },
  {
   "cell_type": "code",
   "execution_count": 11,
   "id": "f1988c2d-ca30-40e3-8c2f-1d79758d54ab",
   "metadata": {},
   "outputs": [
    {
     "name": "stdout",
     "output_type": "stream",
     "text": [
      "35\n",
      "65\n",
      "13\n"
     ]
    }
   ],
   "source": [
    "# Iterating through values.\n",
    "for value in customer_age.values():\n",
    "    print(value)"
   ]
  }
 ],
 "metadata": {
  "kernelspec": {
   "display_name": "Python 3 (ipykernel)",
   "language": "python",
   "name": "python3"
  },
  "language_info": {
   "codemirror_mode": {
    "name": "ipython",
    "version": 3
   },
   "file_extension": ".py",
   "mimetype": "text/x-python",
   "name": "python",
   "nbconvert_exporter": "python",
   "pygments_lexer": "ipython3",
   "version": "3.12.5"
  }
 },
 "nbformat": 4,
 "nbformat_minor": 5
}
