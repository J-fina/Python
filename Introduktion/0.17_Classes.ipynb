{
 "cells": [
  {
   "cell_type": "markdown",
   "id": "465a4122-6b4b-4f07-95a0-586764b1d120",
   "metadata": {},
   "source": [
    "# Chapter: Classes - Terminology\n",
    "\"Classes provide a means of bunding data and funcionallity together. Cgreating a new class creates a new type of object, allowing instances of that type to be made. Each class instance can have attributes attached to it for maintaining its states. Class instances can also have methods (defined by its class) for modifying its state.\" [https://docs.python.org/3/tutorial/classes.html]\n",
    "\n",
    "Some important terimology\n",
    "- Class = A blueprint/template for how to create objects that share characteristics.\n",
    "- Object = An instance of a class. Example: i = 10 is an object that is an instance of integer class.\n",
    "- Attributes = Variables that hold data that are part of class (clas attribute) or an instance (instance attribute). Can be accessed by using a dot.\n",
    "- Methods = Functions that are part of a class. Can be accessed by using a dot.\n",
    "- Inheritance = One class can inherit capabilities, such as methods, from another class.\n",
    "\n",
    "Class names should normally use the CapWords convention, example: MyClass."
   ]
  },
  {
   "cell_type": "markdown",
   "id": "c6dbda8a-f176-453a-a9e4-84ba543cf7aa",
   "metadata": {},
   "source": [
    "# Class Instance\n",
    "## In Python everything is an object and each object has a class from which it is instantiated."
   ]
  },
  {
   "cell_type": "code",
   "execution_count": 1,
   "id": "f7827b11-d3e5-4172-9466-bb25b1282cbe",
   "metadata": {},
   "outputs": [
    {
     "data": {
      "text/plain": [
       "True"
      ]
     },
     "execution_count": 1,
     "metadata": {},
     "output_type": "execute_result"
    }
   ],
   "source": [
    "i = int(10)\n",
    "\n",
    "isinstance(i, int)"
   ]
  },
  {
   "cell_type": "markdown",
   "id": "8207a1c8-cc2f-40c3-96e3-d63ede566373",
   "metadata": {},
   "source": [
    "# Creating a Basic Class"
   ]
  },
  {
   "cell_type": "code",
   "execution_count": 3,
   "id": "a93d1893-9f49-4040-82ee-3d7f816cd5f1",
   "metadata": {},
   "outputs": [],
   "source": [
    "# Creating a class which does nothing\n",
    "class TestClass:\n",
    "    pass"
   ]
  },
  {
   "cell_type": "code",
   "execution_count": 5,
   "id": "3b40d207-e9bc-4ae9-8588-6244ecdd10c2",
   "metadata": {},
   "outputs": [],
   "source": [
    "# We creat an instance, x, by calling a class as if it were a function (which it is not)\n",
    "x = TestClass()"
   ]
  },
  {
   "cell_type": "code",
   "execution_count": null,
   "id": "facb8345-85de-4c28-902c-383639e75f64",
   "metadata": {},
   "outputs": [],
   "source": []
  },
  {
   "cell_type": "code",
   "execution_count": 6,
   "id": "49f6bc40-0957-4f68-b6b5-a204104731fa",
   "metadata": {},
   "outputs": [],
   "source": [
    "# Often, classes want to create objects that have an initial state. We can use the__init__method\n",
    "# Which is automatically invoked when creating a class instance.\n",
    "\n",
    "class MyClass:\n",
    "    def __init__(self, name_of_student, age_of_student):\n",
    "        self.name = name_of_student\n",
    "        self.age = age_of_student"
   ]
  },
  {
   "cell_type": "code",
   "execution_count": 9,
   "id": "ebc7bade-a1da-4a26-842d-4e08e3443636",
   "metadata": {},
   "outputs": [],
   "source": [
    "# Creating an instance\n",
    "student1 = MyClass('Kate', 22)"
   ]
  },
  {
   "cell_type": "code",
   "execution_count": 10,
   "id": "ca213315-cfc7-4e8e-9861-b8eca4a5ae5c",
   "metadata": {},
   "outputs": [
    {
     "name": "stdout",
     "output_type": "stream",
     "text": [
      "Kate\n",
      "22\n"
     ]
    }
   ],
   "source": [
    "# Accessing the attributes of student1.\n",
    "print(student1.name)\n",
    "print(student1.age)"
   ]
  },
  {
   "cell_type": "markdown",
   "id": "87204832-758d-471c-bde3-302b5efe79c9",
   "metadata": {},
   "source": [
    "# Class Attributes"
   ]
  },
  {
   "cell_type": "code",
   "execution_count": 17,
   "id": "8744d9ec-d5e0-4562-813a-f0a50e1da04e",
   "metadata": {},
   "outputs": [],
   "source": [
    "class MyClass:\n",
    "    \"\"\"Our class example.\"\"\"\n",
    "\n",
    "    Teacher = 'Antonio'  # Creating a class variable shared by all instances.\n",
    "\n",
    "    def __init__(self, name_of_student, age_of_student):\n",
    "        self.name = name_of_student\n",
    "        self.age = age_of_student"
   ]
  },
  {
   "cell_type": "code",
   "execution_count": 18,
   "id": "1d8dcc47-75a2-49e1-8c18-32d87236a723",
   "metadata": {},
   "outputs": [],
   "source": [
    "# Creating an instance and assigning it an initial state (attributes)\n",
    "student1x = MyClass('Kate', 22)\n",
    "student2x = MyClass('John', 18)"
   ]
  },
  {
   "cell_type": "code",
   "execution_count": 19,
   "id": "d2a47fd9-1d1b-4998-8386-9d93781a90fb",
   "metadata": {},
   "outputs": [
    {
     "name": "stdout",
     "output_type": "stream",
     "text": [
      "Antonio\n",
      "Antonio\n"
     ]
    }
   ],
   "source": [
    "# Accessing the class variable which each instance of the class has.\n",
    "print(student1x.Teacher)\n",
    "print(student2x.Teacher)"
   ]
  },
  {
   "cell_type": "code",
   "execution_count": 20,
   "id": "4756a48f-225e-47c2-83f4-999a42f4aedc",
   "metadata": {},
   "outputs": [
    {
     "name": "stdout",
     "output_type": "stream",
     "text": [
      "Our class example.\n"
     ]
    }
   ],
   "source": [
    "# Accessing the documentation string \"docstring\"\n",
    "print(MyClass.__doc__)"
   ]
  },
  {
   "cell_type": "markdown",
   "id": "984b41e5-55c7-48f3-9f7e-0086f074584a",
   "metadata": {},
   "source": [
    "# Class Methods\n",
    "## We now add a method (function) to our class."
   ]
  },
  {
   "cell_type": "code",
   "execution_count": 21,
   "id": "8d654098-13f5-44d7-9113-26a44d938ee2",
   "metadata": {},
   "outputs": [],
   "source": [
    "class MyClass:\n",
    "    \"\"\"Our class example.\"\"\"\n",
    "\n",
    "    Teacher = 'Antonio'  # Creating a class variable shared by all instances.\n",
    "\n",
    "    def __init__(self, name_of_student, age_of_student):\n",
    "        self.name = name_of_student\n",
    "        self.age = age_of_student\n",
    "\n",
    "    def add_grade(self, grade):\n",
    "        self.grade = grade"
   ]
  },
  {
   "cell_type": "code",
   "execution_count": 23,
   "id": "1a44cfd1-6753-46c0-bf00-3ac5fd07db84",
   "metadata": {},
   "outputs": [],
   "source": [
    "student3 = MyClass('Anna', 45)\n",
    "\n",
    "# \"Modifying\" the state of student2 by assigning it a grade.\n",
    "student3.add_grade('A')"
   ]
  },
  {
   "cell_type": "code",
   "execution_count": 24,
   "id": "0a9eb1dd-0114-42f2-9c2d-295481ab9f40",
   "metadata": {},
   "outputs": [
    {
     "data": {
      "text/plain": [
       "'A'"
      ]
     },
     "execution_count": 24,
     "metadata": {},
     "output_type": "execute_result"
    }
   ],
   "source": [
    "student3.grade"
   ]
  },
  {
   "cell_type": "markdown",
   "id": "abdd5f02-18f9-4cd9-b7e7-4d6dae192f22",
   "metadata": {},
   "source": [
    "# Class Inheritance\n",
    "## In this example, the child/derived class Dogs inherit the method is_it_a_pet from the parent/base class TheParent. Inheritance is achieved by sending the parent class as an argument when creating the child class."
   ]
  },
  {
   "cell_type": "code",
   "execution_count": 25,
   "id": "55d12c7b-5afd-4b28-9d51-cc33419b72b0",
   "metadata": {},
   "outputs": [],
   "source": [
    "class TheParent:\n",
    "    def is_it_a_pet(self, answer):\n",
    "        self.pet = answer\n",
    "\n",
    "# The class Dogs inherit the method \"is_it_a_pet\" from the base/parent class TheParent and hence does not need to be added seperately.\n",
    "\n",
    "class Dogs(TheParent):\n",
    "    def __init__(self, name, age):\n",
    "        self.name = name\n",
    "        self.age = age"
   ]
  },
  {
   "cell_type": "code",
   "execution_count": 26,
   "id": "9e4a8d66-b670-4f5b-96c6-1d41e67b988e",
   "metadata": {},
   "outputs": [
    {
     "name": "stdout",
     "output_type": "stream",
     "text": [
      "Bob\n",
      "3\n"
     ]
    }
   ],
   "source": [
    "doggy = Dogs('Bob', 3)\n",
    "print(doggy.name)\n",
    "print(doggy.age)"
   ]
  },
  {
   "cell_type": "code",
   "execution_count": 27,
   "id": "21fadd1e-2222-44ce-b9c2-dfc4d8572703",
   "metadata": {},
   "outputs": [
    {
     "name": "stdout",
     "output_type": "stream",
     "text": [
      "TRUE\n"
     ]
    }
   ],
   "source": [
    "doggy.is_it_a_pet('TRUE')\n",
    "print(doggy.pet)"
   ]
  }
 ],
 "metadata": {
  "kernelspec": {
   "display_name": "Python 3 (ipykernel)",
   "language": "python",
   "name": "python3"
  },
  "language_info": {
   "codemirror_mode": {
    "name": "ipython",
    "version": 3
   },
   "file_extension": ".py",
   "mimetype": "text/x-python",
   "name": "python",
   "nbconvert_exporter": "python",
   "pygments_lexer": "ipython3",
   "version": "3.12.4"
  }
 },
 "nbformat": 4,
 "nbformat_minor": 5
}
