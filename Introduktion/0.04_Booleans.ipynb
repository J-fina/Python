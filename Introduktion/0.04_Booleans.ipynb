{
 "cells": [
  {
   "cell_type": "markdown",
   "id": "b8ef8531-7df1-4c6b-9c7b-458bcfa38acd",
   "metadata": {},
   "source": [
    "# Booleans\n",
    "## When you compare two values, the expression is evalutad and Python returns the answer \"True\" or \"False\" which has the typ \"Boolean\"."
   ]
  },
  {
   "cell_type": "code",
   "execution_count": 1,
   "id": "44a88863-81eb-412c-b3b4-11cf4fcd9670",
   "metadata": {},
   "outputs": [
    {
     "name": "stdout",
     "output_type": "stream",
     "text": [
      "False\n",
      "True\n",
      "\n",
      "False\n",
      "True\n",
      "\n",
      "<class 'bool'>\n",
      "<class 'bool'>\n"
     ]
    }
   ],
   "source": [
    "print(10 > 20)\n",
    "print(10 >= 10)\n",
    "print()\n",
    "\n",
    "print(10 == 5) # Note the double equal sign.\n",
    "print (10 != 5) # Not equal\n",
    "print ()\n",
    "\n",
    "# Verify that we get an boolean.\n",
    "print(type(10 > 2))\n",
    "print(type(True))"
   ]
  }
 ],
 "metadata": {
  "kernelspec": {
   "display_name": "Python 3 (ipykernel)",
   "language": "python",
   "name": "python3"
  },
  "language_info": {
   "codemirror_mode": {
    "name": "ipython",
    "version": 3
   },
   "file_extension": ".py",
   "mimetype": "text/x-python",
   "name": "python",
   "nbconvert_exporter": "python",
   "pygments_lexer": "ipython3",
   "version": "3.12.5"
  }
 },
 "nbformat": 4,
 "nbformat_minor": 5
}
