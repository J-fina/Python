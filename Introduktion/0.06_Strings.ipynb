{
 "cells": [
  {
   "cell_type": "markdown",
   "id": "5efef26d-3004-4208-8671-4844dbb21fc5",
   "metadata": {},
   "source": [
    "# Strings\n",
    "## In Python you can enclose strings in either single ('...') or double quotes (\"...\")"
   ]
  },
  {
   "cell_type": "code",
   "execution_count": 1,
   "id": "52151615-b458-40e9-9e96-7aecab5577f0",
   "metadata": {},
   "outputs": [
    {
     "name": "stdout",
     "output_type": "stream",
     "text": [
      "Python is Awesome!\n",
      "<class 'str'>\n"
     ]
    }
   ],
   "source": [
    "my_text = 'Python is Awesome!'\n",
    "print(my_text)\n",
    "print(type(my_text))"
   ]
  },
  {
   "cell_type": "code",
   "execution_count": 2,
   "id": "c7618073-f4f8-43e5-91e7-6b54c5be9ce2",
   "metadata": {},
   "outputs": [
    {
     "ename": "SyntaxError",
     "evalue": "invalid syntax (2625232114.py, line 2)",
     "output_type": "error",
     "traceback": [
      "\u001b[1;36m  Cell \u001b[1;32mIn[2], line 2\u001b[1;36m\u001b[0m\n\u001b[1;33m    'he's\u001b[0m\n\u001b[1;37m        ^\u001b[0m\n\u001b[1;31mSyntaxError\u001b[0m\u001b[1;31m:\u001b[0m invalid syntax\n"
     ]
    }
   ],
   "source": [
    "# this returns an error\n",
    "'he's"
   ]
  },
  {
   "cell_type": "code",
   "execution_count": 3,
   "id": "e3a784b7-b55a-44a6-92d5-8f37bc2baaa1",
   "metadata": {},
   "outputs": [
    {
     "data": {
      "text/plain": [
       "\"He's\""
      ]
     },
     "execution_count": 3,
     "metadata": {},
     "output_type": "execute_result"
    }
   ],
   "source": [
    "# Solution, use double quotes\n",
    "\"He's\""
   ]
  },
  {
   "cell_type": "code",
   "execution_count": 6,
   "id": "63e1b1db-9b3f-419c-81f5-250a4433948a",
   "metadata": {},
   "outputs": [
    {
     "name": "stdout",
     "output_type": "stream",
     "text": [
      "Totally agree, \n",
      " Python is awesome!\n"
     ]
    }
   ],
   "source": [
    "#\\n is new line\n",
    "s = 'Totally agree, \\n Python is awesome!'\n",
    "print(s)"
   ]
  },
  {
   "cell_type": "code",
   "execution_count": 7,
   "id": "0251c545-3f59-4689-ad1f-80cd1f8ef8b2",
   "metadata": {},
   "outputs": [
    {
     "name": "stdout",
     "output_type": "stream",
     "text": [
      "\n",
      "Writing a multiline\n",
      "string\n",
      "\n"
     ]
    }
   ],
   "source": [
    "# Multi line strings.\n",
    "multiliner =\"\"\"\n",
    "Writing a multiline\n",
    "string\n",
    "\"\"\"\n",
    "print(multiliner)"
   ]
  },
  {
   "cell_type": "code",
   "execution_count": 8,
   "id": "bd5b1ec4-927c-4eee-b0e7-746e0ed286d5",
   "metadata": {},
   "outputs": [
    {
     "name": "stdout",
     "output_type": "stream",
     "text": [
      "HaHa\n",
      "HaHaHa\n"
     ]
    }
   ],
   "source": [
    "# Operations on strings.\n",
    "s = 'Ha'\n",
    "print(s + s) # \"Addition\" means concationation.\n",
    "print(s*3) # s is equivalent to s + s + s."
   ]
  }
 ],
 "metadata": {
  "kernelspec": {
   "display_name": "Python 3 (ipykernel)",
   "language": "python",
   "name": "python3"
  },
  "language_info": {
   "codemirror_mode": {
    "name": "ipython",
    "version": 3
   },
   "file_extension": ".py",
   "mimetype": "text/x-python",
   "name": "python",
   "nbconvert_exporter": "python",
   "pygments_lexer": "ipython3",
   "version": "3.12.5"
  }
 },
 "nbformat": 4,
 "nbformat_minor": 5
}
