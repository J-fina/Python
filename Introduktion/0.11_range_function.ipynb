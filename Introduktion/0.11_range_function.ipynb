{
 "cells": [
  {
   "cell_type": "markdown",
   "id": "8733d4ce-46f7-4c56-b159-35d146789009",
   "metadata": {},
   "source": [
    "# The range () function\n",
    "### The range function is often used for looping a specific number of times in a for loop.\n",
    "\n",
    "### General Syntax: range(start, stop, step).\n",
    "### - range(4) is equivalent to range(0, 4, 1).\n",
    "### - range(5, 10) is equivalent to range(5, 10, 1)"
   ]
  },
  {
   "cell_type": "code",
   "execution_count": 1,
   "id": "163887fc-af63-4603-85f9-106db53e197c",
   "metadata": {},
   "outputs": [
    {
     "name": "stdout",
     "output_type": "stream",
     "text": [
      "0\n",
      "2\n",
      "4\n",
      "6\n",
      "8\n"
     ]
    }
   ],
   "source": [
    "# Creating an empty list that we will fill with values.\n",
    "L = []\n",
    "\n",
    "for i in range(0, 10, 2):\n",
    "    print(i)\n",
    "    L.append(i*10)"
   ]
  },
  {
   "cell_type": "code",
   "execution_count": 2,
   "id": "446bba04-8d08-40fc-8a3a-9bb3afeb3947",
   "metadata": {},
   "outputs": [
    {
     "name": "stdout",
     "output_type": "stream",
     "text": [
      "[0, 20, 40, 60, 80]\n"
     ]
    }
   ],
   "source": [
    "print(L)"
   ]
  },
  {
   "cell_type": "code",
   "execution_count": null,
   "id": "78fb5fd2-3d6b-43d6-af6a-804ccc92f5ab",
   "metadata": {},
   "outputs": [],
   "source": []
  }
 ],
 "metadata": {
  "kernelspec": {
   "display_name": "Python 3 (ipykernel)",
   "language": "python",
   "name": "python3"
  },
  "language_info": {
   "codemirror_mode": {
    "name": "ipython",
    "version": 3
   },
   "file_extension": ".py",
   "mimetype": "text/x-python",
   "name": "python",
   "nbconvert_exporter": "python",
   "pygments_lexer": "ipython3",
   "version": "3.12.5"
  }
 },
 "nbformat": 4,
 "nbformat_minor": 5
}
